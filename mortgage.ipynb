{
 "cells": [
  {
   "cell_type": "markdown",
   "metadata": {},
   "source": [
    "# Condo Ownership vs Stock Index Investment"
   ]
  },
  {
   "cell_type": "code",
   "execution_count": 2,
   "metadata": {},
   "outputs": [],
   "source": [
    "import numpy as np"
   ]
  },
  {
   "cell_type": "markdown",
   "metadata": {},
   "source": [
    "## Yearly Expenditures for Condo Ownership (3494 hotel-de-ville)"
   ]
  },
  {
   "cell_type": "markdown",
   "metadata": {},
   "source": [
    "(Property Tax for [Plateau Mont-Royale](http://ville.montreal.qc.ca/pls/portal/docs/PAGE/SERVICE_FIN_EN/MEDIA/DOCUMENTS/2019_PLATEAU_ANG.PDF)) * (Most recent property evaluation for 3494 hotel-de-ville)\n"
   ]
  },
  {
   "cell_type": "code",
   "execution_count": 3,
   "metadata": {},
   "outputs": [],
   "source": [
    "plateau_tax_rate = 0.006519 + 0.000025 + 0.001083 + 0.000036 + 0.000591 + 0.000315\n",
    "municipal_evaluation = 359000\n",
    "PROPERTY_TAX = plateau_tax_rate * municipal_evaluation"
   ]
  },
  {
   "cell_type": "code",
   "execution_count": 4,
   "metadata": {},
   "outputs": [],
   "source": [
    "CONDO_FEES = 2400\n",
    "INSURANCE = 1000\n",
    "MAINTENANCE = 1500"
   ]
  },
  {
   "cell_type": "code",
   "execution_count": 5,
   "metadata": {
    "scrolled": true
   },
   "outputs": [
    {
     "data": {
      "text/plain": [
       "7976.270999999999"
      ]
     },
     "execution_count": 5,
     "metadata": {},
     "output_type": "execute_result"
    }
   ],
   "source": [
    "ANNUAL_EXPENSE = sum([\n",
    "    CONDO_FEES,\n",
    "    INSURANCE,\n",
    "    MAINTENANCE,\n",
    "    PROPERTY_TAX\n",
    "])\n",
    "ANNUAL_EXPENSE"
   ]
  },
  {
   "cell_type": "markdown",
   "metadata": {},
   "source": [
    "## One-time Expenses for Condo Ownership"
   ]
  },
  {
   "cell_type": "code",
   "execution_count": 6,
   "metadata": {},
   "outputs": [
    {
     "data": {
      "text/plain": [
       "7400"
      ]
     },
     "execution_count": 6,
     "metadata": {},
     "output_type": "execute_result"
    }
   ],
   "source": [
    "welcome_tax = 4500\n",
    "notary = 1500\n",
    "title_insurance = 400\n",
    "inspection = 1000\n",
    "\n",
    "INITIAL_EXPENSE = sum([welcome_tax, notary, title_insurance, inspection])\n",
    "INITIAL_EXPENSE"
   ]
  },
  {
   "cell_type": "markdown",
   "metadata": {},
   "source": [
    "## Mortgage Analysis"
   ]
  },
  {
   "cell_type": "markdown",
   "metadata": {},
   "source": [
    "### CMHC Insurance\n",
    "\n",
    "Interest rates [listed here](https://www.cmhc-schl.gc.ca/en/finance-and-investing/mortgage-loan-insurance/mortgage-loan-insurance-homeownership-programs/cmhc-mortgage-loan-insurance-cost). Mortgage insurance is covered by the lender for loan to value of under 80% (i.e., if your downpayment is at least 20%, this section is of no concern to you)."
   ]
  },
  {
   "cell_type": "code",
   "execution_count": 7,
   "metadata": {},
   "outputs": [],
   "source": [
    "def mortgage_insurance_rate(p, downpayment):\n",
    "    ltv = (p - downpayment) / p\n",
    "    assert ltv > 0\n",
    "    assert ltv <= 1\n",
    "    \n",
    "    if ltv >= 0.95:\n",
    "        return 0.04\n",
    "    elif ltv >= 0.90:\n",
    "        return 0.031\n",
    "    elif ltv >= 0.85:\n",
    "        return 0.028\n",
    "    elif ltv >= 0.80:\n",
    "        return 0.024\n",
    "    else:\n",
    "        return 0"
   ]
  },
  {
   "cell_type": "code",
   "execution_count": 8,
   "metadata": {},
   "outputs": [],
   "source": [
    "def mortgage(price, downpayment, interest, periods):\n",
    "    initial_principal = price + mortgage_insurance_rate(price, downpayment) * price - downpayment\n",
    "    ppmt = -np.ppmt(interest, np.arange(periods) + 1, periods, initial_principal)\n",
    "    ipmt = -np.ipmt(interest, np.arange(periods) + 1, periods, initial_principal)\n",
    "    return ppmt, ipmt\n",
    "\n",
    "def print_mortgage(ppmt, ipmt):\n",
    "    assert(len(ppmt) == len(ipmt))\n",
    "    print(f\"with a monthly payment of {(ppmt[0] + ipmt[0]) / 12}...\")\n",
    "    fmt = '{0:2d} {4:8.2f} {1:8.2f} {2:8.2f} {3:8.2f}'\n",
    "    p = initial_principal\n",
    "    per = np.arange(len(ppmt))\n",
    "    for payment in per:\n",
    "        index = payment - 1\n",
    "        p = p - ppmt[index]\n",
    "        print(fmt.format(payment, ppmt[index], ipmt[index], p, ppmt[index] + ipmt[index]))"
   ]
  },
  {
   "cell_type": "markdown",
   "metadata": {},
   "source": [
    "### Gross Debt Service (GDS)\n",
    "\n",
    "A GDS ratio is the percentage of your income needed to pay all of your monthly housing costs, including principal, interest, taxes, and heat (PITH). You’ll also need to include 50 per cent of your condo fees, if applicable.\n",
    "\n",
    "### Total Debt Service Ratio\n",
    "\n",
    "Includes other debt obligations (credit cards, lines of credit, car loans, etc.)\n",
    "\n",
    "You can include up to 50% of your rental income, and in this case, remove heating expenses from the calculation.\n",
    "\n",
    "Canadian gov [reference](https://www.cmhc-schl.gc.ca/en/finance-and-investing/mortgage-loan-insurance/calculating-gds-tds)"
   ]
  },
  {
   "cell_type": "markdown",
   "metadata": {},
   "source": [
    "### Capital Tax"
   ]
  },
  {
   "cell_type": "code",
   "execution_count": 10,
   "metadata": {},
   "outputs": [],
   "source": [
    "def capital_gains_tax(profit, income):\n",
    "    federal, quebec = 0.15, 0.15\n",
    "    if income > 43055:\n",
    "        quebec = 0.20\n",
    "    if income > 47630:\n",
    "        federal = 0.205\n",
    "    if income > 86105:\n",
    "        quebec = 0.24\n",
    "    if income > 95259:\n",
    "        federal = 0.26\n",
    "    if income > 104765:\n",
    "        quebec = 0.2575\n",
    "    if income > 147740:\n",
    "        federal = 0.29\n",
    "    if income > 210371:\n",
    "        federal = 0.33\n",
    "    \n",
    "    # by law, only half of capital gains are taxed\n",
    "    taxable_profit = profit / 2\n",
    "    return (federal + quebec) * taxable_profit"
   ]
  },
  {
   "cell_type": "markdown",
   "metadata": {},
   "source": [
    "### Comparative Yearly Return"
   ]
  },
  {
   "cell_type": "markdown",
   "metadata": {},
   "source": [
    "Condominium appreciation \n",
    "[Plateau Mont Royale centris](https://www.centris.ca/en/tools/real-estate-statistics/montreal-island/le-plateau-mont-royal-montreal) -- 8% last year\n",
    "\n",
    "[Montreal shupilov.com](https://news.shupilov.com/blog/average-real-estate-prices-and-appreciation-rates-in-montreal/) -- 3% per year\n",
    "\n",
    "[fciq.ca](https://www.fciq.ca/pdf/mot_economiste/me_052014_an.pdf)\n",
    "\n",
    "44% monthly cost salary as imposed by the CMHC insurance"
   ]
  },
  {
   "cell_type": "code",
   "execution_count": 11,
   "metadata": {
    "scrolled": true
   },
   "outputs": [],
   "source": [
    "def cumulative(np_array):\n",
    "    return np.matmul(np_array, np.triu(np.ones(len(np_array) * len(np_array)).reshape((len(np_array), len(np_array)))))\n",
    "\n",
    "def future_values(rate, nper, pmt, pv):\n",
    "    return np.array([np.fv(rate, n, pmt, pv) for n in range(nper)])\n",
    "\n",
    "def rental_income(start, incr, years):\n",
    "    return np.array([12 * (starting_rent + i*constant_rent_increase) for i in range(nper)])\n",
    "\n",
    "def net_operating_x(*np_arrays):\n",
    "    return np.array([max(0, x) for x in sum(np_arrays)])\n",
    "\n",
    "def realestate_value(appreciation, per, start):\n",
    "    return future_values(appreciation, per, 0, -start)\n",
    "\n",
    "def stocks(growth, capital, nper):\n",
    "    average_pmt = np.average(capital[1:10])\n",
    "    gains = future_values(growth, nper, -average_pmt, -capital[0])\n",
    "    profit = gains - cumulative(capital)\n",
    "    return gains - capital_gains_tax(profit, FUTURE_INCOME_AT_SELLTIME)\n",
    "\n",
    "def realestate(price, appreciation, nper, pmt, ipmt, closing_cost, noi, nol):\n",
    "    sell_price = realestate_value(appreciation, nper, price)\n",
    "    gains = sell_price + cumulative(noi)\n",
    "    losses = closing_cost * sell_price + cumulative(nol) + (sum(pmt) - cumulative(pmt))\n",
    "    profit = gains - losses\n",
    "    return gains - losses - capital_gains_tax(profit, FUTURE_INCOME_AT_SELLTIME)"
   ]
  },
  {
   "cell_type": "code",
   "execution_count": 36,
   "metadata": {
    "scrolled": false
   },
   "outputs": [],
   "source": [
    "interest = 0.03\n",
    "nper = 25\n",
    "per = np.arange(nper) + 1\n",
    "price = 375000\n",
    "downpayment = 20000\n",
    "condo_appreciation = 0.05\n",
    "starting_rent = 1910\n",
    "constant_rent_increase = 40\n",
    "\n",
    "# To sell it\n",
    "closing_cost = 0.04\n",
    "FUTURE_INCOME_AT_SELLTIME = 100000\n",
    "\n",
    "initial_capital = downpayment + INITIAL_EXPENSE\n",
    "pmt, ipmt = mortgage(price, downpayment, interest, 25)\n",
    "\n",
    "income = rental_income(starting_rent, constant_rent_increase, nper)\n",
    "losses = np.array([INITIAL_EXPENSE + ANNUAL_EXPENSE + downpayment] + [ANNUAL_EXPENSE] * (nper - 1)) + pmt + ipmt\n",
    "net = income - losses\n",
    "noi = np.array([max(0, x) for x in net])\n",
    "nol = -np.array([min(0, x) for x in net])\n",
    "\n",
    "r = realestate(price, condo_appreciation, nper, pmt, ipmt, closing_cost, noi, nol)\n",
    "s = stocks(0.07, nol, nper)"
   ]
  },
  {
   "cell_type": "code",
   "execution_count": 40,
   "metadata": {},
   "outputs": [
    {
     "name": "stdout",
     "output_type": "stream",
     "text": [
      "year | stocks | realestate | ratio | principal | interest | noi |  \n",
      "   0 |  33511 |     -22560 | -0.67 |       838 |      917 | -33511\n",
      "   1 |  39461 |      -5515 | -0.14 |       863 |      891 | -5631\n",
      "   2 |  45609 |      12798 |  0.28 |       889 |      866 | -5151\n",
      "   3 |  51977 |      32420 |  0.62 |       916 |      839 | -4671\n",
      "   4 |  58589 |      53393 |  0.91 |       943 |      811 | -4191\n",
      "   5 |  65471 |      75762 |  1.16 |       971 |      783 | -3711\n",
      "   6 |  72650 |      99574 |  1.37 |      1001 |      754 | -3231\n",
      "   7 |  80155 |     124878 |  1.56 |      1031 |      724 | -2751\n",
      "   8 |  88016 |     151725 |  1.72 |      1062 |      693 | -2271\n",
      "   9 |  96269 |     180168 |  1.87 |      1093 |      661 | -1791\n",
      "  10 | 104947 |     210263 |  2.00 |      1126 |      628 | -1311\n",
      "  11 | 114091 |     242070 |  2.12 |      1160 |      595 | -831\n",
      "  12 | 123739 |     275649 |  2.23 |      1195 |      560 | -351\n",
      "  13 | 133970 |     311065 |  2.32 |      1231 |      524 |  129\n",
      "  14 | 144916 |     348386 |  2.40 |      1268 |      487 |  609\n",
      "  15 | 156629 |     387682 |  2.48 |      1306 |      449 | 1089\n",
      "  16 | 169161 |     429027 |  2.54 |      1345 |      410 | 1569\n",
      "  17 | 182571 |     472498 |  2.59 |      1385 |      369 | 2049\n",
      "  18 | 196920 |     518177 |  2.63 |      1427 |      328 | 2529\n",
      "  19 | 212273 |     566148 |  2.67 |      1469 |      285 | 3009\n",
      "  20 | 228701 |     616500 |  2.70 |      1513 |      241 | 3489\n",
      "  21 | 246278 |     669326 |  2.72 |      1559 |      196 | 3969\n",
      "  22 | 265086 |     724724 |  2.73 |      1606 |      149 | 4449\n",
      "  23 | 285211 |     782797 |  2.74 |      1654 |      101 | 4929\n",
      "  24 | 306744 |     843650 |  2.75 |      1703 |       51 | 5409\n"
     ]
    }
   ],
   "source": [
    "def display_comparison(s, r):\n",
    "    print(\"year | stocks | realestate | ratio | principal | interest | noi |  \")\n",
    "    for i in range(len(s)):\n",
    "        print(f\"{i:4} | {s[i]:6.0f} | {r[i]:10.0f} | {r[i]/s[i]:5.2f} | {pmt[i]/12:9.0f} | {ipmt[i]/12:8.0f} | {net[i]:4.0f}\")\n",
    "display_comparison(s, r)"
   ]
  },
  {
   "cell_type": "code",
   "execution_count": 17,
   "metadata": {},
   "outputs": [
    {
     "ename": "NameError",
     "evalue": "name 'cumulative_capital' is not defined",
     "output_type": "error",
     "traceback": [
      "\u001b[0;31m---------------------------------------------------------------------------\u001b[0m",
      "\u001b[0;31mNameError\u001b[0m                                 Traceback (most recent call last)",
      "\u001b[0;32m<ipython-input-17-504795455a39>\u001b[0m in \u001b[0;36m<module>\u001b[0;34m\u001b[0m\n\u001b[1;32m      1\u001b[0m \u001b[0;31m#calculate roi\u001b[0m\u001b[0;34m\u001b[0m\u001b[0;34m\u001b[0m\u001b[0;34m\u001b[0m\u001b[0m\n\u001b[1;32m      2\u001b[0m \u001b[0;34m\u001b[0m\u001b[0m\n\u001b[0;32m----> 3\u001b[0;31m \u001b[0mroi_realestate\u001b[0m \u001b[0;34m=\u001b[0m \u001b[0;34m(\u001b[0m\u001b[0mrealestate\u001b[0m \u001b[0;34m-\u001b[0m \u001b[0mcumulative_capital\u001b[0m\u001b[0;34m)\u001b[0m \u001b[0;34m/\u001b[0m \u001b[0mcumulative_capital\u001b[0m\u001b[0;34m\u001b[0m\u001b[0;34m\u001b[0m\u001b[0m\n\u001b[0m\u001b[1;32m      4\u001b[0m \u001b[0mroi_realestate\u001b[0m\u001b[0;34m\u001b[0m\u001b[0;34m\u001b[0m\u001b[0m\n",
      "\u001b[0;31mNameError\u001b[0m: name 'cumulative_capital' is not defined"
     ]
    }
   ],
   "source": [
    "#calculate roi\n",
    "\n",
    "roi_realestate = (realestate - cumulative_capital) / cumulative_capital\n",
    "roi_realestate"
   ]
  },
  {
   "cell_type": "code",
   "execution_count": null,
   "metadata": {},
   "outputs": [],
   "source": [
    "first_year = rental_income * 12 - annual_expense - initial_expense + ppmt[0] - ipmt[0]\n",
    "def net(year):\n",
    "    if year == 1:\n",
    "        return first_year\n",
    "    return net(year - 1) + rental_income * 12 - annual_expense + ppmt[year] - ipmt[year]"
   ]
  },
  {
   "cell_type": "code",
   "execution_count": null,
   "metadata": {
    "scrolled": true
   },
   "outputs": [],
   "source": [
    "np.fv(0.07, per, -80000, -50000)"
   ]
  },
  {
   "cell_type": "code",
   "execution_count": null,
   "metadata": {},
   "outputs": [],
   "source": []
  },
  {
   "cell_type": "code",
   "execution_count": null,
   "metadata": {},
   "outputs": [],
   "source": [
    "realestate / stocks"
   ]
  },
  {
   "cell_type": "code",
   "execution_count": null,
   "metadata": {},
   "outputs": [],
   "source": [
    "realestate - stocks"
   ]
  },
  {
   "cell_type": "code",
   "execution_count": null,
   "metadata": {},
   "outputs": [],
   "source": []
  }
 ],
 "metadata": {
  "kernelspec": {
   "display_name": "Python 3",
   "language": "python",
   "name": "python3"
  },
  "language_info": {
   "codemirror_mode": {
    "name": "ipython",
    "version": 3
   },
   "file_extension": ".py",
   "mimetype": "text/x-python",
   "name": "python",
   "nbconvert_exporter": "python",
   "pygments_lexer": "ipython3",
   "version": "3.7.3"
  }
 },
 "nbformat": 4,
 "nbformat_minor": 2
}
