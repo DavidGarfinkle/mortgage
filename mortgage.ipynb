{
 "cells": [
  {
   "cell_type": "markdown",
   "metadata": {},
   "source": [
    "# Condo Ownership vs Stock Index Investment"
   ]
  },
  {
   "cell_type": "code",
   "execution_count": 114,
   "metadata": {},
   "outputs": [],
   "source": [
    "import numpy as np"
   ]
  },
  {
   "cell_type": "markdown",
   "metadata": {},
   "source": [
    "## Yearly Expenditures for Condo Ownership (3494 hotel-de-ville)"
   ]
  },
  {
   "cell_type": "markdown",
   "metadata": {},
   "source": [
    "(Property Tax for [Plateau Mont-Royale](http://ville.montreal.qc.ca/pls/portal/docs/PAGE/SERVICE_FIN_EN/MEDIA/DOCUMENTS/2019_PLATEAU_ANG.PDF)) * (Most recent property evaluation for 3494 hotel-de-ville)\n"
   ]
  },
  {
   "cell_type": "code",
   "execution_count": 115,
   "metadata": {},
   "outputs": [],
   "source": [
    "plateau_tax_rate = 0.006519 + 0.000025 + 0.001083 + 0.000036 + 0.000591 + 0.000315\n",
    "municipal_evaluation = 359000\n",
    "property_tax = plateau_tax_rate * municipal_evaluation"
   ]
  },
  {
   "cell_type": "code",
   "execution_count": 116,
   "metadata": {},
   "outputs": [],
   "source": [
    "condo_fees = 2000\n",
    "insurance = 400\n",
    "maintenance = 300"
   ]
  },
  {
   "cell_type": "code",
   "execution_count": 117,
   "metadata": {},
   "outputs": [
    {
     "data": {
      "text/plain": [
       "5776.270999999999"
      ]
     },
     "execution_count": 117,
     "metadata": {},
     "output_type": "execute_result"
    }
   ],
   "source": [
    "annual_expense = sum([\n",
    "    condo_fees,\n",
    "    insurance,\n",
    "    maintenance,\n",
    "    property_tax\n",
    "])\n",
    "annual_expense"
   ]
  },
  {
   "cell_type": "markdown",
   "metadata": {},
   "source": [
    "## One-time Expenses for Condo Ownership"
   ]
  },
  {
   "cell_type": "code",
   "execution_count": 118,
   "metadata": {},
   "outputs": [
    {
     "data": {
      "text/plain": [
       "6800"
      ]
     },
     "execution_count": 118,
     "metadata": {},
     "output_type": "execute_result"
    }
   ],
   "source": [
    "welcome_tax = 4500\n",
    "notary = 1500\n",
    "title_insurance = 400\n",
    "inspection = 400\n",
    "\n",
    "initial_expense = sum([welcome_tax, notary, title_insurance, inspection])\n",
    "initial_expense"
   ]
  },
  {
   "cell_type": "markdown",
   "metadata": {},
   "source": [
    "## Mortgage Analysis"
   ]
  },
  {
   "cell_type": "code",
   "execution_count": 119,
   "metadata": {},
   "outputs": [],
   "source": [
    "interest = 0.03\n",
    "nper = 25\n",
    "per = np.arange(nper) + 1\n",
    "price = 387000\n",
    "downpayment = 20000"
   ]
  },
  {
   "cell_type": "markdown",
   "metadata": {},
   "source": [
    "### CMHC Insurance\n",
    "\n",
    "Interest rates [listed here](https://www.cmhc-schl.gc.ca/en/finance-and-investing/mortgage-loan-insurance/mortgage-loan-insurance-homeownership-programs/cmhc-mortgage-loan-insurance-cost). Mortgage insurance is covered by the lender for loan to value of under 80% (i.e., if your downpayment is at least 20%, this section is of no concern to you)."
   ]
  },
  {
   "cell_type": "code",
   "execution_count": 120,
   "metadata": {},
   "outputs": [
    {
     "data": {
      "text/plain": [
       "0.031"
      ]
     },
     "execution_count": 120,
     "metadata": {},
     "output_type": "execute_result"
    }
   ],
   "source": [
    "def mortgage_insurance_rate(p, downpayment):\n",
    "    ltv = (p - downpayment) / p\n",
    "    assert ltv > 0\n",
    "    assert ltv <= 1\n",
    "    \n",
    "    if ltv >= 0.95:\n",
    "        return 0.04\n",
    "    elif ltv >= 0.90:\n",
    "        return 0.031\n",
    "    elif ltv >= 0.85:\n",
    "        return 0.028\n",
    "    elif ltv >= 0.80:\n",
    "        return 0.024\n",
    "    else:\n",
    "        return 0\n",
    "    \n",
    "mortgage_insurance_rate(price, downpayment)"
   ]
  },
  {
   "cell_type": "code",
   "execution_count": 121,
   "metadata": {},
   "outputs": [],
   "source": [
    "initial_principal = price + mortgage_insurance_rate(price, downpayment) * price - downpayment\n",
    "ppmt = -np.ppmt(interest, per, nper, price)\n",
    "ipmt = -np.ipmt(interest, per, nper, price)\n",
    "pmt = ipmt + ppmt"
   ]
  },
  {
   "cell_type": "code",
   "execution_count": 122,
   "metadata": {},
   "outputs": [
    {
     "name": "stdout",
     "output_type": "stream",
     "text": [
      " 1 22224.59 10614.59 11610.00 389611.59\n",
      " 2 22224.59 10933.02 11291.56 400544.61\n",
      " 3 22224.59 11261.01 10963.57 411805.62\n",
      " 4 22224.59 11598.84 10625.74 423404.47\n",
      " 5 22224.59 11946.81 10277.78 435351.28\n",
      " 6 22224.59 12305.21  9919.37 447656.49\n",
      " 7 22224.59 12674.37  9550.22 460330.86\n",
      " 8 22224.59 13054.60  9169.98 473385.47\n",
      " 9 22224.59 13446.24  8778.35 486831.71\n",
      "10 22224.59 13849.63  8374.96 500681.33\n",
      "11 22224.59 14265.12  7959.47 514946.45\n",
      "12 22224.59 14693.07  7531.52 529639.52\n",
      "13 22224.59 15133.86  7090.72 544773.38\n",
      "14 22224.59 15587.88  6636.71 560361.26\n",
      "15 22224.59 16055.51  6169.07 576416.77\n",
      "16 22224.59 16537.18  5687.41 592953.95\n",
      "17 22224.59 17033.29  5191.29 609987.25\n",
      "18 22224.59 17544.29  4680.29 627531.54\n",
      "19 22224.59 18070.62  4153.96 645602.16\n",
      "20 22224.59 18612.74  3611.85 664214.90\n",
      "21 22224.59 19171.12  3053.46 683386.03\n",
      "22 22224.59 19746.26  2478.33 703132.28\n",
      "23 22224.59 20338.64  1885.94 723470.93\n",
      "24 22224.59 20948.80  1275.78 744419.73\n",
      "25 22224.59 21577.27   647.32 765997.00\n"
     ]
    },
    {
     "data": {
      "text/plain": [
       "1852.0488410118705"
      ]
     },
     "execution_count": 122,
     "metadata": {},
     "output_type": "execute_result"
    }
   ],
   "source": [
    "fmt = '{0:2d} {4:8.2f} {1:8.2f} {2:8.2f} {3:8.2f}'\n",
    "p = initial_principal\n",
    "for payment in per:\n",
    "    index = payment - 1\n",
    "    p = p + ppmt[index]\n",
    "    print(fmt.format(payment, ppmt[index], ipmt[index], p, ppmt[index] + ipmt[index]))\n",
    "\n",
    "# Monthly mortgage payment\n",
    "(ppmt[0] + ipmt[0]) / 12\n"
   ]
  },
  {
   "cell_type": "markdown",
   "metadata": {},
   "source": [
    "### Comparative Yearly Return"
   ]
  },
  {
   "cell_type": "markdown",
   "metadata": {},
   "source": [
    "Condominium appreciation \n",
    "[Plateau Mont Royale centris](https://www.centris.ca/en/tools/real-estate-statistics/montreal-island/le-plateau-mont-royal-montreal) -- 8% last year\n",
    "\n",
    "[Montreal shupilov.com](https://news.shupilov.com/blog/average-real-estate-prices-and-appreciation-rates-in-montreal/) -- 3% per year\n",
    "\n",
    "[fciq.ca](https://www.fciq.ca/pdf/mot_economiste/me_052014_an.pdf)\n",
    "\n"
   ]
  },
  {
   "cell_type": "code",
   "execution_count": 123,
   "metadata": {},
   "outputs": [
    {
     "data": {
      "text/plain": [
       "(32576.271, 1600.857092142447)"
      ]
     },
     "execution_count": 123,
     "metadata": {},
     "output_type": "execute_result"
    }
   ],
   "source": [
    "rental_income = 2200 * 12\n",
    "initial_capital = annual_expense + initial_expense + downpayment\n",
    "total_yearly_cost = annual_expense + pmt[0]\n",
    "yearly_capital = total_yearly_cost - rental_income\n",
    "\n",
    "appreciated_value = np.fv(0.05, per, 0, -price)\n",
    "\n",
    "cumulative_capital = initial_capital + np.matmul([yearly_capital]*nper, np.triu(np.ones(nper*nper).reshape((nper, nper))))\n",
    "cumulative_principal_paid = np.matmul(ppmt, np.triu(np.ones(nper*nper).reshape((nper, nper))))\n",
    "cumulative_principal_left = initial_principal - cumulative_principal_paid\n",
    "\n",
    "(initial_capital, yearly_capital)"
   ]
  },
  {
   "cell_type": "code",
   "execution_count": 124,
   "metadata": {},
   "outputs": [
    {
     "data": {
      "text/plain": [
       "array([ 36457.46706214,  40610.34684863,  45053.92822018,  49808.56028774,\n",
       "        54896.01660002,  60339.59485416,  66164.2235861 ,  72396.57632927,\n",
       "        79065.19376446,  86200.61442011,  93835.51452166, 102004.85763032,\n",
       "       110746.05475659, 120099.13568169, 130106.93227155, 140815.2746227 ,\n",
       "       152273.20093844, 164533.18209627, 177651.36193515, 191687.81436275,\n",
       "       206706.81846029, 222777.15284465, 239972.41063592, 258371.33647258,\n",
       "       278058.1871178 ])"
      ]
     },
     "execution_count": 124,
     "metadata": {},
     "output_type": "execute_result"
    }
   ],
   "source": [
    "# TODO: add (varying per year) (annual_expense + ipmt[0] - rental_income * 12) compounded by 1.07\n",
    "# This would be the lost opportunity cost that you'd be otheriwse adding to your stock investments\n",
    "# (e.g., what is the added capital beyond your initial investment that you must use to sustain your mortgage?)\n",
    "stocks = np.fv(0.07, per, -yearly_capital, -initial_capital)\n",
    "stocks"
   ]
  },
  {
   "cell_type": "code",
   "execution_count": 125,
   "metadata": {},
   "outputs": [
    {
     "data": {
      "text/plain": [
       "array([   3790.458     ,   33440.12458276,   64433.65687578,\n",
       "         96831.68835034,  130697.68735691,  166098.09296519,\n",
       "        203102.45741917,  241783.59553245,  282217.74136547,\n",
       "        324484.71254298,  368668.08258817,  414855.36166804,\n",
       "        463138.18616467,  513612.51750713,  566378.8507207 ,\n",
       "        621542.43317243,  679213.49401591,  739507.48486316,\n",
       "        802545.33223758,  868453.70238943,  937365.27908422,\n",
       "       1009419.05500451, 1084760.63743765, 1163542.56895516,\n",
       "       1245924.6638245 ])"
      ]
     },
     "execution_count": 125,
     "metadata": {},
     "output_type": "execute_result"
    }
   ],
   "source": [
    "realestate = appreciated_value - cumulative_capital - cumulative_principal_left\n",
    "realestate"
   ]
  },
  {
   "cell_type": "code",
   "execution_count": 126,
   "metadata": {},
   "outputs": [
    {
     "data": {
      "text/plain": [
       "array([-0.88909372, -0.06534355,  0.72380023,  1.48415688,  2.22069727,\n",
       "        2.93770808,  3.63892015,  4.32760979,  5.00667956,  5.67872323,\n",
       "        6.34607846,  7.01086986,  7.67504452,  8.34040141,  9.00861609,\n",
       "        9.68126137, 10.35982495, 11.04572444, 11.74032023, 12.44492672,\n",
       "       13.16082208, 13.88925678, 14.63146126, 15.38865264, 16.16204085])"
      ]
     },
     "execution_count": 126,
     "metadata": {},
     "output_type": "execute_result"
    }
   ],
   "source": [
    "#calculate roi\n",
    "\n",
    "roi_realestate = (realestate - cumulative_capital) / cumulative_capital\n",
    "roi_realestate"
   ]
  },
  {
   "cell_type": "code",
   "execution_count": 127,
   "metadata": {},
   "outputs": [],
   "source": [
    "first_year = rental_income * 12 - annual_expense - initial_expense + ppmt[0] - ipmt[0]\n",
    "def net(year):\n",
    "    if year == 1:\n",
    "        return first_year\n",
    "    return net(year - 1) + rental_income * 12 - annual_expense + ppmt[year] - ipmt[year]"
   ]
  },
  {
   "cell_type": "code",
   "execution_count": 128,
   "metadata": {},
   "outputs": [
    {
     "data": {
      "text/plain": [
       "array([ 133500.        ,  222845.        ,  318444.15      ,\n",
       "        420735.2405    ,  530186.707335  ,  647299.77684845,\n",
       "        772610.76122784,  906693.51451379, 1050162.06052976,\n",
       "       1203673.40476684, 1367930.54310052, 1543685.68111756,\n",
       "       1731743.67879578, 1932965.73631149, 2148273.33785329,\n",
       "       2378652.47150302, 2625158.14450824, 2888919.21462381,\n",
       "       3171143.55964748, 3473123.6088228 , 3796242.2614404 ,\n",
       "       4141979.21974123, 4511917.76512312, 4907752.00868173,\n",
       "       5331294.64928946])"
      ]
     },
     "execution_count": 128,
     "metadata": {},
     "output_type": "execute_result"
    }
   ],
   "source": [
    "np.fv(0.07, per, -80000, -50000)"
   ]
  },
  {
   "cell_type": "code",
   "execution_count": null,
   "metadata": {},
   "outputs": [],
   "source": []
  },
  {
   "cell_type": "code",
   "execution_count": null,
   "metadata": {},
   "outputs": [],
   "source": []
  }
 ],
 "metadata": {
  "kernelspec": {
   "display_name": "Python 3",
   "language": "python",
   "name": "python3"
  },
  "language_info": {
   "codemirror_mode": {
    "name": "ipython",
    "version": 3
   },
   "file_extension": ".py",
   "mimetype": "text/x-python",
   "name": "python",
   "nbconvert_exporter": "python",
   "pygments_lexer": "ipython3",
   "version": "3.7.2"
  }
 },
 "nbformat": 4,
 "nbformat_minor": 2
}
