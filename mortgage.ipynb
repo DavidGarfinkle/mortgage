{
 "cells": [
  {
   "cell_type": "markdown",
   "metadata": {},
   "source": [
    "# Condo Ownership vs Stock Index Investment"
   ]
  },
  {
   "cell_type": "code",
   "execution_count": 339,
   "metadata": {},
   "outputs": [],
   "source": [
    "import numpy as np"
   ]
  },
  {
   "cell_type": "markdown",
   "metadata": {},
   "source": [
    "## Yearly Expenditures for Condo Ownership (3494 hotel-de-ville)"
   ]
  },
  {
   "cell_type": "markdown",
   "metadata": {},
   "source": [
    "(Property Tax for [Plateau Mont-Royale](http://ville.montreal.qc.ca/pls/portal/docs/PAGE/SERVICE_FIN_EN/MEDIA/DOCUMENTS/2019_PLATEAU_ANG.PDF)) * (Most recent property evaluation for 3494 hotel-de-ville)\n",
    "\n",
    "[School Tax](https://www.cgtsim.qc.ca/en/8-english-canada/173-2017-school-tax-2)\n"
   ]
  },
  {
   "cell_type": "code",
   "execution_count": 340,
   "metadata": {},
   "outputs": [],
   "source": [
    "plateau_tax_rate = 0.006519 + 0.000025 + 0.001083 + 0.000036 + 0.000591 + 0.000315\n",
    "school_tax = 0.0017832\n",
    "municipal_evaluation = 359000\n",
    "PROPERTY_TAX = (plateau_tax_rate + school_tax) * municipal_evaluation\n",
    "PROPERTY_TAX\n",
    "\n",
    "bmo_prop_tax_confirmed=3076.28\n",
    "bmo_school_tax_confirmed=502.17\n",
    "PROPERTY_TAX=bmo_prop_tax_confirmed + bmo_school_tax_confirmed"
   ]
  },
  {
   "cell_type": "code",
   "execution_count": 341,
   "metadata": {},
   "outputs": [
    {
     "data": {
      "text/plain": [
       "7978.450000000001"
      ]
     },
     "execution_count": 341,
     "metadata": {},
     "output_type": "execute_result"
    }
   ],
   "source": [
    "CONDO_FEES = 2400\n",
    "INSURANCE = 1000\n",
    "MAINTENANCE = 1000\n",
    "\n",
    "ANNUAL_EXPENSE = sum([CONDO_FEES, INSURANCE, MAINTENANCE, PROPERTY_TAX])\n",
    "ANNUAL_EXPENSE"
   ]
  },
  {
   "cell_type": "markdown",
   "metadata": {},
   "source": [
    "## One-time Expenses for Condo Ownership"
   ]
  },
  {
   "cell_type": "code",
   "execution_count": 342,
   "metadata": {},
   "outputs": [
    {
     "data": {
      "text/plain": [
       "11400"
      ]
     },
     "execution_count": 342,
     "metadata": {},
     "output_type": "execute_result"
    }
   ],
   "source": [
    "welcome_tax = 4500\n",
    "notary = 1500\n",
    "title_insurance = 400\n",
    "inspection = 1000\n",
    "REPAIR=4000\n",
    "\n",
    "INITIAL_EXPENSE = sum([welcome_tax, notary, title_insurance, inspection, REPAIR])\n",
    "INITIAL_EXPENSE"
   ]
  },
  {
   "cell_type": "markdown",
   "metadata": {},
   "source": [
    "## Mortgage Analysis"
   ]
  },
  {
   "cell_type": "markdown",
   "metadata": {},
   "source": [
    "### CMHC Insurance\n",
    "\n",
    "Interest rates [listed here](https://www.cmhc-schl.gc.ca/en/finance-and-investing/mortgage-loan-insurance/mortgage-loan-insurance-homeownership-programs/cmhc-mortgage-loan-insurance-cost). Mortgage insurance is covered by the lender for loan to value of under 80% (i.e., if your downpayment is at least 20%, this section is of no concern to you)."
   ]
  },
  {
   "cell_type": "code",
   "execution_count": 343,
   "metadata": {},
   "outputs": [],
   "source": [
    "def mortgage_insurance_rate(p, downpayment):\n",
    "    ltv = (p - downpayment) / p\n",
    "    assert ltv > 0\n",
    "    assert ltv <= 1\n",
    "    \n",
    "    if ltv >= 0.95:\n",
    "        return 0.04\n",
    "    elif ltv >= 0.90:\n",
    "        return 0.031\n",
    "    elif ltv >= 0.85:\n",
    "        return 0.028\n",
    "    elif ltv >= 0.80:\n",
    "        return 0.024\n",
    "    else:\n",
    "        return 0"
   ]
  },
  {
   "cell_type": "code",
   "execution_count": 344,
   "metadata": {},
   "outputs": [],
   "source": [
    "def mortgage(price, downpayment, interest, periods):\n",
    "    initial_principal = price + mortgage_insurance_rate(price, downpayment) * price - downpayment\n",
    "    ppmt = -np.ppmt(interest, np.arange(periods) + 1, periods, initial_principal)\n",
    "    ipmt = -np.ipmt(interest, np.arange(periods) + 1, periods, initial_principal)\n",
    "    return ppmt, ipmt\n",
    "\n",
    "def print_mortgage(ppmt, ipmt):\n",
    "    assert(len(ppmt) == len(ipmt))\n",
    "    print(f\"with a monthly payment of {(ppmt[0] + ipmt[0]) / 12}...\")\n",
    "    fmt = '{0:2d} {4:8.2f} {1:8.2f} {2:8.2f} {3:8.2f}'\n",
    "    p = initial_principal\n",
    "    per = np.arange(len(ppmt))\n",
    "    for payment in per:\n",
    "        index = payment - 1\n",
    "        p = p - ppmt[index]\n",
    "        print(fmt.format(payment, ppmt[index], ipmt[index], p, ppmt[index] + ipmt[index]))"
   ]
  },
  {
   "cell_type": "markdown",
   "metadata": {},
   "source": [
    "### Gross Debt Service (GDS)\n",
    "\n",
    "A GDS ratio is the percentage of your income needed to pay all of your monthly housing costs, including principal, interest, taxes, and heat (PITH). You’ll also need to include 50 per cent of your condo fees, if applicable.\n",
    "\n",
    "### Total Debt Service Ratio\n",
    "\n",
    "Includes other debt obligations (credit cards, lines of credit, car loans, etc.)\n",
    "\n",
    "For rental property, you can include up to 50% of your rental income, and in this case, remove heating expenses from the calculation. But this would require at least a 20% down payment.\n",
    "\n",
    "Canadian gov [reference](https://www.cmhc-schl.gc.ca/en/finance-and-investing/mortgage-loan-insurance/calculating-gds-tds)\n",
    "\n",
    "Benchmark Interest Rate:\n",
    "https://www.bankofcanada.ca/rates/daily-digest/"
   ]
  },
  {
   "cell_type": "code",
   "execution_count": 345,
   "metadata": {},
   "outputs": [],
   "source": [
    "BENCHMARK_INTEREST_RATE=0.0519\n",
    "def GDS(income, ppmt, ipmt, taxes, heat, condo_fees):\n",
    "    return sum(p for p in ((ppmt + ipmt)[0], taxes, heat * 12, (condo_fees * 12)/2 )) / income"
   ]
  },
  {
   "cell_type": "markdown",
   "metadata": {},
   "source": [
    "### Capital Tax"
   ]
  },
  {
   "cell_type": "code",
   "execution_count": 346,
   "metadata": {},
   "outputs": [],
   "source": [
    "def capital_gains_tax(profit, income):\n",
    "    federal, quebec = 0.15, 0.15\n",
    "    if income > 43055:\n",
    "        quebec = 0.20\n",
    "    if income > 47630:\n",
    "        federal = 0.205\n",
    "    if income > 86105:\n",
    "        quebec = 0.24\n",
    "    if income > 95259:\n",
    "        federal = 0.26\n",
    "    if income > 104765:\n",
    "        quebec = 0.2575\n",
    "    if income > 147740:\n",
    "        federal = 0.29\n",
    "    if income > 210371:\n",
    "        federal = 0.33\n",
    "    \n",
    "    # by law, only half of capital gains are taxed\n",
    "    taxable_profit = profit / 2\n",
    "    return (federal + quebec) * taxable_profit"
   ]
  },
  {
   "cell_type": "markdown",
   "metadata": {},
   "source": [
    "### Comparative Yearly Return"
   ]
  },
  {
   "cell_type": "markdown",
   "metadata": {},
   "source": [
    "Condominium appreciation \n",
    "[Plateau Mont Royale centris](https://www.centris.ca/en/tools/real-estate-statistics/montreal-island/le-plateau-mont-royal-montreal) -- 8% last year\n",
    "\n",
    "[Montreal shupilov.com](https://news.shupilov.com/blog/average-real-estate-prices-and-appreciation-rates-in-montreal/) -- 3% per year\n",
    "\n",
    "[fciq.ca](https://www.fciq.ca/pdf/mot_economiste/me_052014_an.pdf)\n",
    "\n",
    "44% monthly cost salary as imposed by the CMHC insurance"
   ]
  },
  {
   "cell_type": "code",
   "execution_count": 347,
   "metadata": {
    "scrolled": true
   },
   "outputs": [],
   "source": [
    "def cumulative(np_array):\n",
    "    return np.matmul(np_array, np.triu(np.ones(len(np_array) * len(np_array)).reshape((len(np_array), len(np_array)))))\n",
    "\n",
    "def future_values(rate, nper, pmt, pv):\n",
    "    return np.array([np.fv(rate, n, pmt, pv) for n in range(nper)])\n",
    "\n",
    "def rental_income(start, incr, years):\n",
    "    return np.array([12 * (starting_rent + i*constant_rent_increase) for i in range(nper)])\n",
    "\n",
    "def net_operating_x(*np_arrays):\n",
    "    return np.array([max(0, x) for x in sum(np_arrays)])\n",
    "\n",
    "def realestate_value(appreciation, per, start):\n",
    "    return future_values(appreciation, per, 0, -start)\n",
    "\n",
    "def stocks(growth, capital, nper):\n",
    "    average_pmt = np.average(capital[1:10])\n",
    "    gains = future_values(growth, nper, -average_pmt, -capital[0])\n",
    "    profit = gains - cumulative(capital)\n",
    "    return gains - capital_gains_tax(profit, FUTURE_INCOME_AT_SELLTIME)\n",
    "\n",
    "def realestate(price, appreciation, nper, pmt, ipmt, closing_cost, noi, nol):\n",
    "    sell_price = realestate_value(appreciation, nper, price)\n",
    "    gains = sell_price + cumulative(noi)\n",
    "    losses = closing_cost * sell_price + cumulative(nol) + (sum(pmt) - cumulative(pmt))\n",
    "    profit = gains - losses\n",
    "    return gains - losses# - capital_gains_tax(profit, FUTURE_INCOME_AT_SELLTIME)\n",
    "\n",
    "def calculate_rent_tax(yearly_rent, ipmt, *deductibles):\n",
    "    # :ref https://www.revenuquebec.ca/en/citizens/your-situation/landlord-rental-property-owners/income-and-expenses/current-expenditures/\n",
    "    # insurance, property tax, mortgage interest, maintenance, heating, electricity, water\n",
    "    marginal_tax_rate = 0.44\n",
    "    return (yearly_rent - ipmt - sum(deductibles)) * marginal_tax_rate"
   ]
  },
  {
   "cell_type": "code",
   "execution_count": 482,
   "metadata": {
    "scrolled": false
   },
   "outputs": [
    {
     "data": {
      "text/plain": [
       "array([ 3316.4274    ,  4399.74984619,  4747.85996577,  5100.07738893,\n",
       "        5456.52533479,  5817.33071903,  6182.62426479,  6552.54061693,\n",
       "        6927.21845963,  7306.80063761,  7691.43428093,  8081.27093355,\n",
       "        8476.46668574,  8877.18231051,  9283.58340401,  9695.84053033,\n",
       "       10114.12937043, 10538.63087573, 10969.53142619, 11407.02299317,\n",
       "       11851.30330716, 12302.57603057, 12761.05093567, 13226.94408794,\n",
       "       13700.47803477])"
      ]
     },
     "execution_count": 482,
     "metadata": {},
     "output_type": "execute_result"
    }
   ],
   "source": [
    "interest = 0.030\n",
    "nper = 25\n",
    "per = np.arange(nper) + 1\n",
    "price = 375500\n",
    "downpayment = 20000\n",
    "condo_appreciation = 0.04\n",
    "#starting_rent = 2220\n",
    "#constant_rent_increase = 70\n",
    "#rent = [12 * (starting_rent + i*constant_rent_increase) for i in range(nper)]\n",
    "rent = np.array([2220, 2400] + [2400 + 40 * i for i in range(1, nper - 1)]) * 12\n",
    "\n",
    "# To sell it\n",
    "closing_cost = 0.04\n",
    "FUTURE_INCOME_AT_SELLTIME = 100000\n",
    "\n",
    "initial_capital = downpayment + INITIAL_EXPENSE\n",
    "ppmt, ipmt = mortgage(price, downpayment, interest, 25)\n",
    "\n",
    "income = rent\n",
    "rental_tax = calculate_rent_tax(rent, ipmt, np.array([INSURANCE]*nper), np.array([PROPERTY_TAX]*nper), np.array([MAINTENANCE]*nper), np.array([110]*nper), np.array([CONDO_FEES] * nper))\n",
    "losses = np.array([INITIAL_EXPENSE + ANNUAL_EXPENSE + downpayment] + [ANNUAL_EXPENSE] * (nper - 1)) + ppmt + ipmt + rental_tax\n",
    "net = income - losses\n",
    "noi = np.array([max(0, x) for x in net])\n",
    "nol = -np.array([min(0, x) for x in net])\n",
    "\n",
    "r = realestate(price, condo_appreciation, nper, ppmt, ipmt, closing_cost, noi, nol)\n",
    "realestate_roi = r/cumulative(nol)\n",
    "s = stocks(0.09, nol, nper)\n",
    "stocks_roi = s/cumulative(nol)\n",
    "\n",
    "\n",
    "(ANNUAL_EXPENSE + (ipmt + ppmt)[0]) / 12\n",
    "GDS(78000, *mortgage(price, downpayment, BENCHMARK_INTEREST_RATE, 25), PROPERTY_TAX, 100, CONDO_FEES / 12)\n",
    "rental_tax"
   ]
  },
  {
   "cell_type": "code",
   "execution_count": 483,
   "metadata": {},
   "outputs": [],
   "source": [
    "def display_comparison(s, r):\n",
    "    print(\"year | stocks roi  | realestate roi | ratio | principal | interest | noi | rent after tax \")\n",
    "    for i in range(len(s)):\n",
    "        print(f\"{i+1:4} | {s[i]:6.0f} {stocks_roi[i]:2.2f} | {r[i]:7.0f}  {realestate_roi[i]:5.2f} | {r[i]/s[i]:5.2f} | {ppmt[i]/12:9.0f} | {ipmt[i]/12:8.0f} | {net[i]:6.0f} | {(rent[i]-rental_tax[i]):4.0f}\")"
   ]
  },
  {
   "cell_type": "markdown",
   "metadata": {},
   "source": [
    "## Visualization"
   ]
  },
  {
   "cell_type": "code",
   "execution_count": 484,
   "metadata": {},
   "outputs": [
    {
     "name": "stdout",
     "output_type": "stream",
     "text": [
      "year | stocks roi  | realestate roi | ratio | principal | interest | noi | rent after tax \n",
      "   1 |  37139 1.00 |  -33730  -0.91 | -0.91 |       839 |      918 | -37139 | 23324\n",
      "   2 |  43943 1.05 |  -13601  -0.33 | -0.31 |       864 |      893 |  -4662 | 24400\n",
      "   3 |  51221 1.11 |    7548   0.16 |  0.15 |       890 |      867 |  -4530 | 24532\n",
      "   4 |  59020 1.16 |   29745   0.59 |  0.50 |       917 |      840 |  -4403 | 24660\n",
      "   5 |  67391 1.22 |   53019   0.96 |  0.79 |       944 |      813 |  -4279 | 24783\n",
      "   6 |  76389 1.29 |   77401   1.31 |  1.01 |       973 |      784 |  -4160 | 24903\n",
      "   7 |  86076 1.36 |  102923   1.63 |  1.20 |      1002 |      755 |  -4045 | 25017\n",
      "   8 |  96515 1.44 |  129618   1.93 |  1.34 |      1032 |      725 |  -3935 | 25127\n",
      "   9 | 107779 1.52 |  157519   2.22 |  1.46 |      1063 |      694 |  -3830 | 25233\n",
      "  10 | 119945 1.61 |  186662   2.50 |  1.56 |      1095 |      662 |  -3729 | 25333\n",
      "  11 | 133099 1.70 |  217084   2.77 |  1.63 |      1128 |      629 |  -3634 | 25429\n",
      "  12 | 147332 1.80 |  248824   3.04 |  1.69 |      1162 |      595 |  -3544 | 25519\n",
      "  13 | 162745 1.91 |  281919   3.30 |  1.73 |      1196 |      561 |  -3459 | 25604\n",
      "  14 | 179448 2.02 |  316413   3.57 |  1.76 |      1232 |      525 |  -3380 | 25683\n",
      "  15 | 197560 2.15 |  352348   3.83 |  1.78 |      1269 |      488 |  -3306 | 25756\n",
      "  16 | 217210 2.28 |  389767   4.09 |  1.79 |      1307 |      450 |  -3238 | 25824\n",
      "  17 | 238541 2.42 |  428718   4.35 |  1.80 |      1347 |      410 |  -3177 | 25886\n",
      "  18 | 261706 2.58 |  469248   4.62 |  1.79 |      1387 |      370 |  -3121 | 25941\n",
      "  19 | 286873 2.74 |  511406   4.89 |  1.78 |      1429 |      328 |  -3072 | 25990\n",
      "  20 | 314225 2.92 |  555245   5.16 |  1.77 |      1471 |      286 |  -3030 | 26033\n",
      "  21 | 343963 3.11 |  600817   5.43 |  1.75 |      1516 |      241 |  -2994 | 26069\n",
      "  22 | 376302 3.31 |  648179   5.70 |  1.72 |      1561 |      196 |  -2965 | 26097\n",
      "  23 | 411479 3.53 |  697389   5.98 |  1.69 |      1608 |      149 |  -2944 | 26119\n",
      "  24 | 449753 3.76 |  748505   6.26 |  1.66 |      1656 |      101 |  -2929 | 26133\n",
      "  25 | 491404 4.01 |  801592   6.55 |  1.63 |      1706 |       51 |  -2923 | 26140\n"
     ]
    }
   ],
   "source": [
    "display_comparison(s, r)"
   ]
  },
  {
   "cell_type": "code",
   "execution_count": null,
   "metadata": {},
   "outputs": [],
   "source": []
  },
  {
   "cell_type": "code",
   "execution_count": null,
   "metadata": {},
   "outputs": [],
   "source": []
  },
  {
   "cell_type": "code",
   "execution_count": null,
   "metadata": {},
   "outputs": [],
   "source": []
  }
 ],
 "metadata": {
  "kernelspec": {
   "display_name": "Python 3",
   "language": "python",
   "name": "python3"
  },
  "language_info": {
   "codemirror_mode": {
    "name": "ipython",
    "version": 3
   },
   "file_extension": ".py",
   "mimetype": "text/x-python",
   "name": "python",
   "nbconvert_exporter": "python",
   "pygments_lexer": "ipython3",
   "version": "3.7.3"
  }
 },
 "nbformat": 4,
 "nbformat_minor": 2
}
