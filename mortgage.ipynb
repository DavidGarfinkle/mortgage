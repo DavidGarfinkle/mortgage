{
 "cells": [
  {
   "cell_type": "markdown",
   "metadata": {},
   "source": [
    "# Condo Ownership vs Stock Index Investment"
   ]
  },
  {
   "cell_type": "code",
   "execution_count": 242,
   "metadata": {},
   "outputs": [],
   "source": [
    "import numpy as np"
   ]
  },
  {
   "cell_type": "markdown",
   "metadata": {},
   "source": [
    "## Yearly Expenditures for Condo Ownership (3494 hotel-de-ville)"
   ]
  },
  {
   "cell_type": "markdown",
   "metadata": {},
   "source": [
    "(Property Tax for [Plateau Mont-Royale](http://ville.montreal.qc.ca/pls/portal/docs/PAGE/SERVICE_FIN_EN/MEDIA/DOCUMENTS/2019_PLATEAU_ANG.PDF)) * (Most recent property evaluation for 3494 hotel-de-ville)\n"
   ]
  },
  {
   "cell_type": "code",
   "execution_count": 243,
   "metadata": {},
   "outputs": [],
   "source": [
    "plateau_tax_rate = 0.006519 + 0.000025 + 0.001083 + 0.000036 + 0.000591 + 0.000315\n",
    "municipal_evaluation = 359000\n",
    "property_tax = plateau_tax_rate * municipal_evaluation"
   ]
  },
  {
   "cell_type": "code",
   "execution_count": 244,
   "metadata": {},
   "outputs": [],
   "source": [
    "condo_fees = 2400\n",
    "insurance = 500\n",
    "maintenance = 500"
   ]
  },
  {
   "cell_type": "code",
   "execution_count": 245,
   "metadata": {},
   "outputs": [
    {
     "data": {
      "text/plain": [
       "6476.270999999999"
      ]
     },
     "execution_count": 245,
     "metadata": {},
     "output_type": "execute_result"
    }
   ],
   "source": [
    "annual_expense = sum([\n",
    "    condo_fees,\n",
    "    insurance,\n",
    "    maintenance,\n",
    "    property_tax\n",
    "])\n",
    "annual_expense"
   ]
  },
  {
   "cell_type": "markdown",
   "metadata": {},
   "source": [
    "## One-time Expenses for Condo Ownership"
   ]
  },
  {
   "cell_type": "code",
   "execution_count": 246,
   "metadata": {},
   "outputs": [
    {
     "data": {
      "text/plain": [
       "6800"
      ]
     },
     "execution_count": 246,
     "metadata": {},
     "output_type": "execute_result"
    }
   ],
   "source": [
    "welcome_tax = 4500\n",
    "notary = 1500\n",
    "title_insurance = 400\n",
    "inspection = 400\n",
    "\n",
    "initial_expense = sum([welcome_tax, notary, title_insurance, inspection])\n",
    "initial_expense"
   ]
  },
  {
   "cell_type": "markdown",
   "metadata": {},
   "source": [
    "## Mortgage Analysis"
   ]
  },
  {
   "cell_type": "code",
   "execution_count": 247,
   "metadata": {},
   "outputs": [],
   "source": [
    "interest = 0.03\n",
    "nper = 25\n",
    "per = np.arange(nper) + 1\n",
    "price = 387000\n",
    "resale_price = 400000\n",
    "downpayment = 20000"
   ]
  },
  {
   "cell_type": "markdown",
   "metadata": {},
   "source": [
    "### CMHC Insurance\n",
    "\n",
    "Interest rates [listed here](https://www.cmhc-schl.gc.ca/en/finance-and-investing/mortgage-loan-insurance/mortgage-loan-insurance-homeownership-programs/cmhc-mortgage-loan-insurance-cost). Mortgage insurance is covered by the lender for loan to value of under 80% (i.e., if your downpayment is at least 20%, this section is of no concern to you)."
   ]
  },
  {
   "cell_type": "code",
   "execution_count": 248,
   "metadata": {},
   "outputs": [
    {
     "data": {
      "text/plain": [
       "0.031"
      ]
     },
     "execution_count": 248,
     "metadata": {},
     "output_type": "execute_result"
    }
   ],
   "source": [
    "def mortgage_insurance_rate(p, downpayment):\n",
    "    ltv = (p - downpayment) / p\n",
    "    assert ltv > 0\n",
    "    assert ltv <= 1\n",
    "    \n",
    "    if ltv >= 0.95:\n",
    "        return 0.04\n",
    "    elif ltv >= 0.90:\n",
    "        return 0.031\n",
    "    elif ltv >= 0.85:\n",
    "        return 0.028\n",
    "    elif ltv >= 0.80:\n",
    "        return 0.024\n",
    "    else:\n",
    "        return 0\n",
    "    \n",
    "mortgage_insurance_rate(price, downpayment)"
   ]
  },
  {
   "cell_type": "code",
   "execution_count": 249,
   "metadata": {},
   "outputs": [],
   "source": [
    "initial_principal = price + mortgage_insurance_rate(price, downpayment) * price - downpayment\n",
    "ppmt = -np.ppmt(interest, per, nper, initial_principal)\n",
    "ipmt = -np.ipmt(interest, per, nper, initial_principal)\n",
    "pmt = ipmt + ppmt"
   ]
  },
  {
   "cell_type": "code",
   "execution_count": 250,
   "metadata": {},
   "outputs": [
    {
     "name": "stdout",
     "output_type": "stream",
     "text": [
      " 1 21764.99 10395.08 11369.91 368601.92\n",
      " 2 21764.99 10706.93 11058.06 357894.99\n",
      " 3 21764.99 11028.14 10736.85 346866.84\n",
      " 4 21764.99 11358.99 10406.01 335507.86\n",
      " 5 21764.99 11699.76 10065.24 323808.10\n",
      " 6 21764.99 12050.75  9714.24 311757.36\n",
      " 7 21764.99 12412.27  9352.72 299345.09\n",
      " 8 21764.99 12784.64  8980.35 286560.45\n",
      " 9 21764.99 13168.18  8596.81 273392.27\n",
      "10 21764.99 13563.22  8201.77 259829.05\n",
      "11 21764.99 13970.12  7794.87 245858.93\n",
      "12 21764.99 14389.22  7375.77 231469.71\n",
      "13 21764.99 14820.90  6944.09 216648.81\n",
      "14 21764.99 15265.53  6499.46 201383.28\n",
      "15 21764.99 15723.49  6041.50 185659.79\n",
      "16 21764.99 16195.20  5569.79 169464.59\n",
      "17 21764.99 16681.05  5083.94 152783.54\n",
      "18 21764.99 17181.48  4583.51 135602.05\n",
      "19 21764.99 17696.93  4068.06 117905.12\n",
      "20 21764.99 18227.84  3537.15 99677.28\n",
      "21 21764.99 18774.67  2990.32 80902.61\n",
      "22 21764.99 19337.91  2427.08 61564.70\n",
      "23 21764.99 19918.05  1846.94 41646.65\n",
      "24 21764.99 20515.59  1249.40 21131.06\n",
      "25 21764.99 21131.06   633.93     0.00\n"
     ]
    },
    {
     "data": {
      "text/plain": [
       "1813.749236684692"
      ]
     },
     "execution_count": 250,
     "metadata": {},
     "output_type": "execute_result"
    }
   ],
   "source": [
    "fmt = '{0:2d} {4:8.2f} {1:8.2f} {2:8.2f} {3:8.2f}'\n",
    "p = initial_principal\n",
    "for payment in per:\n",
    "    index = payment - 1\n",
    "    p = p - ppmt[index]\n",
    "    print(fmt.format(payment, ppmt[index], ipmt[index], p, ppmt[index] + ipmt[index]))\n",
    "\n",
    "# Monthly mortgage payment\n",
    "mrtg_monthly_payment = (ppmt[0] + ipmt[0]) / 12\n",
    "mrtg_monthly_payment"
   ]
  },
  {
   "cell_type": "markdown",
   "metadata": {},
   "source": [
    "### Gross Debt Service (GDS)\n",
    "\n",
    "A GDS ratio is the percentage of your income needed to pay all of your monthly housing costs, including principal, interest, taxes, and heat (PITH). You’ll also need to include 50 per cent of your condo fees, if applicable.\n",
    "\n",
    "### Total Debt Service Ratio\n",
    "\n",
    "Includes other debt obligations (credit cards, lines of credit, car loans, etc.)\n",
    "\n",
    "You can include up to 50% of your rental income, and in this case, remove heating expenses from the calculation.\n",
    "\n",
    "Canadian gov [reference](https://www.cmhc-schl.gc.ca/en/finance-and-investing/mortgage-loan-insurance/calculating-gds-tds)"
   ]
  },
  {
   "cell_type": "code",
   "execution_count": 251,
   "metadata": {},
   "outputs": [
    {
     "name": "stdout",
     "output_type": "stream",
     "text": [
      "GDS: 32.741901250259986\n"
     ]
    }
   ],
   "source": [
    "gross_annual_income = 70000\n",
    "monthly_heating = 200\n",
    "rental_income = 2200 * 12\n",
    "gds = sum([pmt[0], condo_fees, property_tax]) / (gross_annual_income + rental_income / 2)\n",
    "print(\"GDS: {}\".format(gds * 100))\n"
   ]
  },
  {
   "cell_type": "markdown",
   "metadata": {},
   "source": [
    "### Comparative Yearly Return"
   ]
  },
  {
   "cell_type": "markdown",
   "metadata": {},
   "source": [
    "Condominium appreciation \n",
    "[Plateau Mont Royale centris](https://www.centris.ca/en/tools/real-estate-statistics/montreal-island/le-plateau-mont-royal-montreal) -- 8% last year\n",
    "\n",
    "[Montreal shupilov.com](https://news.shupilov.com/blog/average-real-estate-prices-and-appreciation-rates-in-montreal/) -- 3% per year\n",
    "\n",
    "[fciq.ca](https://www.fciq.ca/pdf/mot_economiste/me_052014_an.pdf)\n",
    "\n"
   ]
  },
  {
   "cell_type": "code",
   "execution_count": 252,
   "metadata": {},
   "outputs": [
    {
     "data": {
      "text/plain": [
       "(33276.271, 1841.2618402163062)"
      ]
     },
     "execution_count": 252,
     "metadata": {},
     "output_type": "execute_result"
    }
   ],
   "source": [
    "initial_capital = annual_expense + initial_expense + downpayment\n",
    "total_yearly_cost = annual_expense + pmt[0]\n",
    "yearly_capital = total_yearly_cost - rental_income\n",
    "\n",
    "appreciated_value = np.fv(0.03, per, 0, -resale_price)\n",
    "\n",
    "cumulative_capital = initial_capital + np.matmul([yearly_capital]*nper, np.triu(np.ones(nper*nper).reshape((nper, nper))))\n",
    "cumulative_principal_paid = np.matmul(ppmt, np.triu(np.ones(nper*nper).reshape((nper, nper))))\n",
    "cumulative_principal_left = initial_principal - cumulative_principal_paid\n",
    "\n",
    "(initial_capital, yearly_capital)"
   ]
  },
  {
   "cell_type": "code",
   "execution_count": 253,
   "metadata": {},
   "outputs": [
    {
     "data": {
      "text/plain": [
       "array([ 37446.87181022,  41909.41467715,  46684.33554476,  51793.50087311,\n",
       "        57260.30777445,  63109.79115888,  69368.73838021,  76065.81190705,\n",
       "        83231.68058075,  90899.16006162,  99103.36310615, 107881.8603638 ,\n",
       "       117274.85242948, 127325.35393976, 138079.39055576, 149586.20973488,\n",
       "       161898.50625654, 175072.66353472, 189169.01182236, 204252.10449014,\n",
       "       220391.01364467, 237659.64644001, 256137.08353103, 275907.94121842,\n",
       "       297062.75894392])"
      ]
     },
     "execution_count": 253,
     "metadata": {},
     "output_type": "execute_result"
    }
   ],
   "source": [
    "# TODO: add (varying per year) (annual_expense + ipmt[0] - rental_income * 12) compounded by 1.07\n",
    "# This would be the lost opportunity cost that you'd be otheriwse adding to your stock investments\n",
    "# (e.g., what is the added capital beyond your initial investment that you must use to sustain your mortgage?)\n",
    "stocks = np.fv(0.07, per, -yearly_capital, -initial_capital)\n",
    "stocks"
   ]
  },
  {
   "cell_type": "code",
   "execution_count": 254,
   "metadata": {},
   "outputs": [
    {
     "data": {
      "text/plain": [
       "array([  8280.548     ,  29506.21942521,  51423.89884838,  74054.34650945,\n",
       "        97418.94545556, 121539.72022525, 146439.35609325, 172141.21889249,\n",
       "       198669.37543092, 226048.61452071, 254304.46863839, 283463.23623482,\n",
       "       313552.00471434, 344598.67410345, 376631.98142945, 409681.52583043,\n",
       "       443777.79441865, 478952.18891972, 515237.05311102, 552665.70108328,\n",
       "       591272.44634991, 631092.63182974, 672162.66072917, 714520.0283508 ,\n",
       "       758203.35485628])"
      ]
     },
     "execution_count": 254,
     "metadata": {},
     "output_type": "execute_result"
    }
   ],
   "source": [
    "realestate = appreciated_value - cumulative_capital - cumulative_principal_left\n",
    "realestate"
   ]
  },
  {
   "cell_type": "code",
   "execution_count": 255,
   "metadata": {},
   "outputs": [
    {
     "data": {
      "text/plain": [
       "array([-0.76420473, -0.20164552,  0.32535629,  0.8221443 ,  1.29315039,\n",
       "        1.7420845 ,  2.17207899,  2.58579985,  2.98553322,  3.37325346,\n",
       "        3.75067719,  4.11930652,  4.48046399,  4.83532095,  5.18492082,\n",
       "        5.53019828,  5.87199515,  6.21107369,  6.5481277 ,  6.88379192,\n",
       "        7.21865004,  7.55324139,  7.88806682,  8.22359368,  8.56026005])"
      ]
     },
     "execution_count": 255,
     "metadata": {},
     "output_type": "execute_result"
    }
   ],
   "source": [
    "#calculate roi\n",
    "\n",
    "roi_realestate = (realestate - cumulative_capital) / cumulative_capital\n",
    "roi_realestate"
   ]
  },
  {
   "cell_type": "code",
   "execution_count": 256,
   "metadata": {},
   "outputs": [],
   "source": [
    "first_year = rental_income * 12 - annual_expense - initial_expense + ppmt[0] - ipmt[0]\n",
    "def net(year):\n",
    "    if year == 1:\n",
    "        return first_year\n",
    "    return net(year - 1) + rental_income * 12 - annual_expense + ppmt[year] - ipmt[year]"
   ]
  },
  {
   "cell_type": "code",
   "execution_count": 257,
   "metadata": {},
   "outputs": [
    {
     "data": {
      "text/plain": [
       "array([ 133500.        ,  222845.        ,  318444.15      ,\n",
       "        420735.2405    ,  530186.707335  ,  647299.77684845,\n",
       "        772610.76122784,  906693.51451379, 1050162.06052976,\n",
       "       1203673.40476684, 1367930.54310052, 1543685.68111756,\n",
       "       1731743.67879578, 1932965.73631149, 2148273.33785329,\n",
       "       2378652.47150302, 2625158.14450824, 2888919.21462381,\n",
       "       3171143.55964748, 3473123.6088228 , 3796242.2614404 ,\n",
       "       4141979.21974123, 4511917.76512312, 4907752.00868173,\n",
       "       5331294.64928946])"
      ]
     },
     "execution_count": 257,
     "metadata": {},
     "output_type": "execute_result"
    }
   ],
   "source": [
    "np.fv(0.07, per, -80000, -50000)"
   ]
  },
  {
   "cell_type": "code",
   "execution_count": null,
   "metadata": {},
   "outputs": [],
   "source": []
  },
  {
   "cell_type": "code",
   "execution_count": 258,
   "metadata": {},
   "outputs": [
    {
     "data": {
      "text/plain": [
       "array([0.2211279 , 0.70404752, 1.10152363, 1.42979998, 1.70133465,\n",
       "       1.9258457 , 2.1110281 , 2.26305635, 2.38694418, 2.48680642,\n",
       "       2.56605286, 2.62753382, 2.67365081, 2.70644191, 2.72764806,\n",
       "       2.73876534, 2.7410864 , 2.73573372, 2.72368634, 2.70580175,\n",
       "       2.68283374, 2.65544715, 2.62423016, 2.58970447, 2.55233392])"
      ]
     },
     "execution_count": 258,
     "metadata": {},
     "output_type": "execute_result"
    }
   ],
   "source": [
    "realestate / stocks"
   ]
  },
  {
   "cell_type": "code",
   "execution_count": null,
   "metadata": {},
   "outputs": [],
   "source": []
  }
 ],
 "metadata": {
  "kernelspec": {
   "display_name": "Python 3",
   "language": "python",
   "name": "python3"
  },
  "language_info": {
   "codemirror_mode": {
    "name": "ipython",
    "version": 3
   },
   "file_extension": ".py",
   "mimetype": "text/x-python",
   "name": "python",
   "nbconvert_exporter": "python",
   "pygments_lexer": "ipython3",
   "version": "3.7.2"
  }
 },
 "nbformat": 4,
 "nbformat_minor": 2
}
