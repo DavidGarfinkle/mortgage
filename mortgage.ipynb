{
 "cells": [
  {
   "cell_type": "markdown",
   "metadata": {},
   "source": [
    "# Condo Ownership vs Stock Index Investment"
   ]
  },
  {
   "cell_type": "code",
   "execution_count": 3,
   "metadata": {},
   "outputs": [],
   "source": [
    "import numpy as np"
   ]
  },
  {
   "cell_type": "markdown",
   "metadata": {},
   "source": [
    "## Yearly Expenditures for Condo Ownership (3494 hotel-de-ville)"
   ]
  },
  {
   "cell_type": "markdown",
   "metadata": {},
   "source": [
    "(Property Tax for [Plateau Mont-Royale](http://ville.montreal.qc.ca/pls/portal/docs/PAGE/SERVICE_FIN_EN/MEDIA/DOCUMENTS/2019_PLATEAU_ANG.PDF)) * (Most recent property evaluation for 3494 hotel-de-ville)\n",
    "\n",
    "[School Tax](https://www.cgtsim.qc.ca/en/8-english-canada/173-2017-school-tax-2)\n"
   ]
  },
  {
   "cell_type": "code",
   "execution_count": 4,
   "metadata": {},
   "outputs": [
    {
     "data": {
      "text/plain": [
       "3716.4397999999997"
      ]
     },
     "execution_count": 4,
     "metadata": {},
     "output_type": "execute_result"
    }
   ],
   "source": [
    "plateau_tax_rate = 0.006519 + 0.000025 + 0.001083 + 0.000036 + 0.000591 + 0.000315\n",
    "school_tax = 0.0017832\n",
    "municipal_evaluation = 359000\n",
    "PROPERTY_TAX = (plateau_tax_rate + school_tax) * municipal_evaluation\n",
    "PROPERTY_TAX"
   ]
  },
  {
   "cell_type": "code",
   "execution_count": 5,
   "metadata": {},
   "outputs": [
    {
     "data": {
      "text/plain": [
       "8616.4398"
      ]
     },
     "execution_count": 5,
     "metadata": {},
     "output_type": "execute_result"
    }
   ],
   "source": [
    "CONDO_FEES = 2400\n",
    "INSURANCE = 1000\n",
    "MAINTENANCE = 1500\n",
    "\n",
    "ANNUAL_EXPENSE = sum([CONDO_FEES, INSURANCE, MAINTENANCE, PROPERTY_TAX])\n",
    "ANNUAL_EXPENSE"
   ]
  },
  {
   "cell_type": "markdown",
   "metadata": {},
   "source": [
    "## One-time Expenses for Condo Ownership"
   ]
  },
  {
   "cell_type": "code",
   "execution_count": 6,
   "metadata": {},
   "outputs": [
    {
     "data": {
      "text/plain": [
       "7400"
      ]
     },
     "execution_count": 6,
     "metadata": {},
     "output_type": "execute_result"
    }
   ],
   "source": [
    "welcome_tax = 4500\n",
    "notary = 1500\n",
    "title_insurance = 400\n",
    "inspection = 1000\n",
    "\n",
    "INITIAL_EXPENSE = sum([welcome_tax, notary, title_insurance, inspection])\n",
    "INITIAL_EXPENSE"
   ]
  },
  {
   "cell_type": "markdown",
   "metadata": {},
   "source": [
    "## Mortgage Analysis"
   ]
  },
  {
   "cell_type": "markdown",
   "metadata": {},
   "source": [
    "### CMHC Insurance\n",
    "\n",
    "Interest rates [listed here](https://www.cmhc-schl.gc.ca/en/finance-and-investing/mortgage-loan-insurance/mortgage-loan-insurance-homeownership-programs/cmhc-mortgage-loan-insurance-cost). Mortgage insurance is covered by the lender for loan to value of under 80% (i.e., if your downpayment is at least 20%, this section is of no concern to you)."
   ]
  },
  {
   "cell_type": "code",
   "execution_count": 7,
   "metadata": {},
   "outputs": [],
   "source": [
    "def mortgage_insurance_rate(p, downpayment):\n",
    "    ltv = (p - downpayment) / p\n",
    "    assert ltv > 0\n",
    "    assert ltv <= 1\n",
    "    \n",
    "    if ltv >= 0.95:\n",
    "        return 0.04\n",
    "    elif ltv >= 0.90:\n",
    "        return 0.031\n",
    "    elif ltv >= 0.85:\n",
    "        return 0.028\n",
    "    elif ltv >= 0.80:\n",
    "        return 0.024\n",
    "    else:\n",
    "        return 0"
   ]
  },
  {
   "cell_type": "code",
   "execution_count": 8,
   "metadata": {},
   "outputs": [],
   "source": [
    "def mortgage(price, downpayment, interest, periods):\n",
    "    initial_principal = price + mortgage_insurance_rate(price, downpayment) * price - downpayment\n",
    "    ppmt = -np.ppmt(interest, np.arange(periods) + 1, periods, initial_principal)\n",
    "    ipmt = -np.ipmt(interest, np.arange(periods) + 1, periods, initial_principal)\n",
    "    return ppmt, ipmt\n",
    "\n",
    "def print_mortgage(ppmt, ipmt):\n",
    "    assert(len(ppmt) == len(ipmt))\n",
    "    print(f\"with a monthly payment of {(ppmt[0] + ipmt[0]) / 12}...\")\n",
    "    fmt = '{0:2d} {4:8.2f} {1:8.2f} {2:8.2f} {3:8.2f}'\n",
    "    p = initial_principal\n",
    "    per = np.arange(len(ppmt))\n",
    "    for payment in per:\n",
    "        index = payment - 1\n",
    "        p = p - ppmt[index]\n",
    "        print(fmt.format(payment, ppmt[index], ipmt[index], p, ppmt[index] + ipmt[index]))"
   ]
  },
  {
   "cell_type": "markdown",
   "metadata": {},
   "source": [
    "### Gross Debt Service (GDS)\n",
    "\n",
    "A GDS ratio is the percentage of your income needed to pay all of your monthly housing costs, including principal, interest, taxes, and heat (PITH). You’ll also need to include 50 per cent of your condo fees, if applicable.\n",
    "\n",
    "### Total Debt Service Ratio\n",
    "\n",
    "Includes other debt obligations (credit cards, lines of credit, car loans, etc.)\n",
    "\n",
    "For rental property, you can include up to 50% of your rental income, and in this case, remove heating expenses from the calculation. But this would require at least a 20% down payment.\n",
    "\n",
    "Canadian gov [reference](https://www.cmhc-schl.gc.ca/en/finance-and-investing/mortgage-loan-insurance/calculating-gds-tds)\n",
    "\n",
    "Benchmark Interest Rate:\n",
    "https://www.bankofcanada.ca/rates/daily-digest/"
   ]
  },
  {
   "cell_type": "code",
   "execution_count": 51,
   "metadata": {},
   "outputs": [],
   "source": [
    "BENCHMARK_INTEREST_RATE=0.0519\n",
    "def GDS(income, ppmt, ipmt, taxes, heat, condo_fees):\n",
    "    return sum(p for p in ((ppmt + ipmt)[0], taxes, heat * 12, (condo_fees * 12)/2 )) / income"
   ]
  },
  {
   "cell_type": "markdown",
   "metadata": {},
   "source": [
    "### Capital Tax"
   ]
  },
  {
   "cell_type": "code",
   "execution_count": 45,
   "metadata": {},
   "outputs": [],
   "source": [
    "def capital_gains_tax(profit, income):\n",
    "    federal, quebec = 0.15, 0.15\n",
    "    if income > 43055:\n",
    "        quebec = 0.20\n",
    "    if income > 47630:\n",
    "        federal = 0.205\n",
    "    if income > 86105:\n",
    "        quebec = 0.24\n",
    "    if income > 95259:\n",
    "        federal = 0.26\n",
    "    if income > 104765:\n",
    "        quebec = 0.2575\n",
    "    if income > 147740:\n",
    "        federal = 0.29\n",
    "    if income > 210371:\n",
    "        federal = 0.33\n",
    "    \n",
    "    # by law, only half of capital gains are taxed\n",
    "    taxable_profit = profit / 2\n",
    "    return (federal + quebec) * taxable_profit"
   ]
  },
  {
   "cell_type": "markdown",
   "metadata": {},
   "source": [
    "### Comparative Yearly Return"
   ]
  },
  {
   "cell_type": "markdown",
   "metadata": {},
   "source": [
    "Condominium appreciation \n",
    "[Plateau Mont Royale centris](https://www.centris.ca/en/tools/real-estate-statistics/montreal-island/le-plateau-mont-royal-montreal) -- 8% last year\n",
    "\n",
    "[Montreal shupilov.com](https://news.shupilov.com/blog/average-real-estate-prices-and-appreciation-rates-in-montreal/) -- 3% per year\n",
    "\n",
    "[fciq.ca](https://www.fciq.ca/pdf/mot_economiste/me_052014_an.pdf)\n",
    "\n",
    "44% monthly cost salary as imposed by the CMHC insurance"
   ]
  },
  {
   "cell_type": "code",
   "execution_count": 46,
   "metadata": {
    "scrolled": true
   },
   "outputs": [],
   "source": [
    "def cumulative(np_array):\n",
    "    return np.matmul(np_array, np.triu(np.ones(len(np_array) * len(np_array)).reshape((len(np_array), len(np_array)))))\n",
    "\n",
    "def future_values(rate, nper, pmt, pv):\n",
    "    return np.array([np.fv(rate, n, pmt, pv) for n in range(nper)])\n",
    "\n",
    "def rental_income(start, incr, years):\n",
    "    return np.array([12 * (starting_rent + i*constant_rent_increase) for i in range(nper)])\n",
    "\n",
    "def net_operating_x(*np_arrays):\n",
    "    return np.array([max(0, x) for x in sum(np_arrays)])\n",
    "\n",
    "def realestate_value(appreciation, per, start):\n",
    "    return future_values(appreciation, per, 0, -start)\n",
    "\n",
    "def stocks(growth, capital, nper):\n",
    "    average_pmt = np.average(capital[1:10])\n",
    "    gains = future_values(growth, nper, -average_pmt, -capital[0])\n",
    "    profit = gains - cumulative(capital)\n",
    "    return gains - capital_gains_tax(profit, FUTURE_INCOME_AT_SELLTIME)\n",
    "\n",
    "def realestate(price, appreciation, nper, pmt, ipmt, closing_cost, noi, nol):\n",
    "    sell_price = realestate_value(appreciation, nper, price)\n",
    "    gains = sell_price + cumulative(noi)\n",
    "    losses = closing_cost * sell_price + cumulative(nol) + (sum(pmt) - cumulative(pmt))\n",
    "    profit = gains - losses\n",
    "    return gains - losses - capital_gains_tax(profit, FUTURE_INCOME_AT_SELLTIME)"
   ]
  },
  {
   "cell_type": "code",
   "execution_count": 94,
   "metadata": {
    "scrolled": false
   },
   "outputs": [
    {
     "data": {
      "text/plain": [
       "0.39020420501117536"
      ]
     },
     "execution_count": 94,
     "metadata": {},
     "output_type": "execute_result"
    }
   ],
   "source": [
    "interest = 0.030\n",
    "nper = 25\n",
    "per = np.arange(nper) + 1\n",
    "price = 375000\n",
    "downpayment = 20000\n",
    "condo_appreciation = 0.03\n",
    "starting_rent = 2300\n",
    "constant_rent_increase = 60\n",
    "\n",
    "# To sell it\n",
    "closing_cost = 0.04\n",
    "FUTURE_INCOME_AT_SELLTIME = 100000\n",
    "\n",
    "initial_capital = downpayment + INITIAL_EXPENSE\n",
    "ppmt, ipmt = mortgage(price, downpayment, interest, 25)\n",
    "\n",
    "income = rental_income(starting_rent, constant_rent_increase, nper)\n",
    "losses = np.array([INITIAL_EXPENSE + ANNUAL_EXPENSE + downpayment] + [ANNUAL_EXPENSE] * (nper - 1)) + ppmt + ipmt\n",
    "net = income - losses\n",
    "noi = np.array([max(0, x) for x in net])\n",
    "nol = -np.array([min(0, x) for x in net])\n",
    "\n",
    "r = realestate(price, condo_appreciation, nper, ppmt, ipmt, closing_cost, noi, nol)\n",
    "s = stocks(0.07, nol, nper)\n",
    "\n",
    "GDS(83000, *mortgage(price, downpayment, BENCHMARK_INTEREST_RATE, 25), PROPERTY_TAX, 80, 200)"
   ]
  },
  {
   "cell_type": "code",
   "execution_count": 95,
   "metadata": {},
   "outputs": [
    {
     "name": "stdout",
     "output_type": "stream",
     "text": [
      "[2.57775164 2.57775164 2.57775164 2.57775164 2.57775164 2.57775164\n",
      " 2.57775164 2.57775164 2.57775164 2.57775164 2.57775164 2.57775164\n",
      " 2.57775164 2.57775164 2.57775164 2.57775164 2.57775164 2.57775164\n",
      " 2.57775164 2.57775164 2.57775164 2.57775164 2.57775164 2.57775164\n",
      " 2.57775164]\n"
     ]
    }
   ],
   "source": [
    "def display_comparison(s, r):\n",
    "    print(\"year | stocks | realestate | ratio | principal | interest | noi |  \")\n",
    "    for i in range(len(s)):\n",
    "        print(f\"{i:4} | {s[i]:6.0f} | {r[i]:10.0f} | {r[i]/s[i]:5.2f} | {ppmt[i]/12:9.0f} | {ipmt[i]/12:8.0f} | {net[i]:4.0f}\")\n",
    "        \n",
    "print((ppmt + ipmt) / 12 + ((ANNUAL_EXPENSE - MAINTENANCE) / 12) - 2345)"
   ]
  },
  {
   "cell_type": "markdown",
   "metadata": {},
   "source": [
    "## Visualization"
   ]
  },
  {
   "cell_type": "code",
   "execution_count": 96,
   "metadata": {},
   "outputs": [
    {
     "name": "stdout",
     "output_type": "stream",
     "text": [
      "year | stocks | realestate | ratio | principal | interest | noi |  \n",
      "   0 |  29471 |     -19530 | -0.66 |       838 |      917 | -29471\n",
      "   1 |  31521 |      -4675 | -0.15 |       863 |      891 | -1351\n",
      "   2 |  33511 |      11196 |  0.33 |       889 |      866 | -631\n",
      "   3 |  35472 |      28097 |  0.79 |       916 |      839 |   89\n",
      "   4 |  37569 |      46043 |  1.23 |       943 |      811 |  809\n",
      "   5 |  39814 |      65050 |  1.63 |       971 |      783 | 1529\n",
      "   6 |  42216 |      85132 |  2.02 |      1001 |      754 | 2249\n",
      "   7 |  44785 |     106306 |  2.37 |      1031 |      724 | 2969\n",
      "   8 |  47535 |     128588 |  2.71 |      1062 |      693 | 3689\n",
      "   9 |  50477 |     151996 |  3.01 |      1093 |      661 | 4409\n",
      "  10 |  53625 |     176547 |  3.29 |      1126 |      628 | 5129\n",
      "  11 |  56994 |     202260 |  3.55 |      1160 |      595 | 5849\n",
      "  12 |  60598 |     229151 |  3.78 |      1195 |      560 | 6569\n",
      "  13 |  64455 |     257242 |  3.99 |      1231 |      524 | 7289\n",
      "  14 |  68581 |     286552 |  4.18 |      1268 |      487 | 8009\n",
      "  15 |  72997 |     317101 |  4.34 |      1306 |      449 | 8729\n",
      "  16 |  77721 |     348909 |  4.49 |      1345 |      410 | 9449\n",
      "  17 |  82777 |     382000 |  4.61 |      1385 |      369 | 10169\n",
      "  18 |  88186 |     416394 |  4.72 |      1427 |      328 | 10889\n",
      "  19 |  93973 |     452115 |  4.81 |      1469 |      285 | 11609\n",
      "  20 | 100166 |     489187 |  4.88 |      1513 |      241 | 12329\n",
      "  21 | 106793 |     527633 |  4.94 |      1559 |      196 | 13049\n",
      "  22 | 113883 |     567479 |  4.98 |      1606 |      149 | 13769\n",
      "  23 | 121469 |     608751 |  5.01 |      1654 |      101 | 14489\n",
      "  24 | 129587 |     651474 |  5.03 |      1703 |       51 | 15209\n"
     ]
    }
   ],
   "source": [
    "display_comparison(s, r)"
   ]
  },
  {
   "cell_type": "code",
   "execution_count": null,
   "metadata": {},
   "outputs": [],
   "source": []
  }
 ],
 "metadata": {
  "kernelspec": {
   "display_name": "Python 3",
   "language": "python",
   "name": "python3"
  },
  "language_info": {
   "codemirror_mode": {
    "name": "ipython",
    "version": 3
   },
   "file_extension": ".py",
   "mimetype": "text/x-python",
   "name": "python",
   "nbconvert_exporter": "python",
   "pygments_lexer": "ipython3",
   "version": "3.7.3"
  }
 },
 "nbformat": 4,
 "nbformat_minor": 2
}
