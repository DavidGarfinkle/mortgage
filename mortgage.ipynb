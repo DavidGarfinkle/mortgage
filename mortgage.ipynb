{
 "cells": [
  {
   "cell_type": "markdown",
   "metadata": {},
   "source": [
    "# Condo Ownership vs Stock Index Investment"
   ]
  },
  {
   "cell_type": "code",
   "execution_count": 5,
   "metadata": {},
   "outputs": [],
   "source": [
    "import numpy as np"
   ]
  },
  {
   "cell_type": "markdown",
   "metadata": {},
   "source": [
    "## Yearly Expenditures for Condo Ownership (3494 hotel-de-ville)"
   ]
  },
  {
   "cell_type": "markdown",
   "metadata": {},
   "source": [
    "(Property Tax for [Plateau Mont-Royale](http://ville.montreal.qc.ca/pls/portal/docs/PAGE/SERVICE_FIN_EN/MEDIA/DOCUMENTS/2019_PLATEAU_ANG.PDF)) * (Most recent property evaluation for 3494 hotel-de-ville)\n"
   ]
  },
  {
   "cell_type": "code",
   "execution_count": 6,
   "metadata": {},
   "outputs": [],
   "source": [
    "plateau_tax_rate = 0.006519 + 0.000025 + 0.001083 + 0.000036 + 0.000591 + 0.000315\n",
    "municipal_evaluation = 359000\n",
    "property_tax = plateau_tax_rate * municipal_evaluation"
   ]
  },
  {
   "cell_type": "code",
   "execution_count": 7,
   "metadata": {},
   "outputs": [],
   "source": [
    "condo_fees = 2400\n",
    "insurance = 500\n",
    "maintenance = 300"
   ]
  },
  {
   "cell_type": "code",
   "execution_count": 8,
   "metadata": {},
   "outputs": [
    {
     "data": {
      "text/plain": [
       "6276.270999999999"
      ]
     },
     "execution_count": 8,
     "metadata": {},
     "output_type": "execute_result"
    }
   ],
   "source": [
    "annual_expense = sum([\n",
    "    condo_fees,\n",
    "    insurance,\n",
    "    maintenance,\n",
    "    property_tax\n",
    "])\n",
    "annual_expense"
   ]
  },
  {
   "cell_type": "markdown",
   "metadata": {},
   "source": [
    "## One-time Expenses for Condo Ownership"
   ]
  },
  {
   "cell_type": "code",
   "execution_count": 9,
   "metadata": {},
   "outputs": [
    {
     "data": {
      "text/plain": [
       "6800"
      ]
     },
     "execution_count": 9,
     "metadata": {},
     "output_type": "execute_result"
    }
   ],
   "source": [
    "welcome_tax = 4500\n",
    "notary = 1500\n",
    "title_insurance = 400\n",
    "inspection = 400\n",
    "\n",
    "initial_expense = sum([welcome_tax, notary, title_insurance, inspection])\n",
    "initial_expense"
   ]
  },
  {
   "cell_type": "markdown",
   "metadata": {},
   "source": [
    "## Mortgage Analysis"
   ]
  },
  {
   "cell_type": "code",
   "execution_count": 118,
   "metadata": {},
   "outputs": [],
   "source": [
    "interest = 0.03\n",
    "nper = 25\n",
    "per = np.arange(nper) + 1\n",
    "price = 387000\n",
    "downpayment = 20000"
   ]
  },
  {
   "cell_type": "markdown",
   "metadata": {},
   "source": [
    "### CMHC Insurance\n",
    "\n",
    "Interest rates [listed here](https://www.cmhc-schl.gc.ca/en/finance-and-investing/mortgage-loan-insurance/mortgage-loan-insurance-homeownership-programs/cmhc-mortgage-loan-insurance-cost). Mortgage insurance is covered by the lender for loan to value of under 80% (i.e., if your downpayment is at least 20%, this section is of no concern to you)."
   ]
  },
  {
   "cell_type": "code",
   "execution_count": 119,
   "metadata": {},
   "outputs": [
    {
     "data": {
      "text/plain": [
       "0.031"
      ]
     },
     "execution_count": 119,
     "metadata": {},
     "output_type": "execute_result"
    }
   ],
   "source": [
    "def mortgage_insurance_rate(p, downpayment):\n",
    "    ltv = (p - downpayment) / p\n",
    "    assert ltv > 0\n",
    "    assert ltv <= 1\n",
    "    \n",
    "    if ltv >= 0.95:\n",
    "        return 0.04\n",
    "    elif ltv >= 0.90:\n",
    "        return 0.031\n",
    "    elif ltv >= 0.85:\n",
    "        return 0.028\n",
    "    elif ltv >= 0.80:\n",
    "        return 0.024\n",
    "    else:\n",
    "        return 0\n",
    "    \n",
    "mortgage_insurance_rate(price, downpayment)"
   ]
  },
  {
   "cell_type": "code",
   "execution_count": 120,
   "metadata": {},
   "outputs": [],
   "source": [
    "price = price + mortgage_insurance_rate(price, downpayment) * price\n",
    "ppmt = np.ppmt(interest, per, nper, price)\n",
    "ipmt = np.ipmt(interest, per, nper, price)"
   ]
  },
  {
   "cell_type": "code",
   "execution_count": 124,
   "metadata": {},
   "outputs": [
    {
     "name": "stdout",
     "output_type": "stream",
     "text": [
      " 1 -22913.55 -10943.64 -11969.91 388053.36\n",
      " 2 -22913.55 -11271.95 -11641.60 376781.41\n",
      " 3 -22913.55 -11610.11 -11303.44 365171.31\n",
      " 4 -22913.55 -11958.41 -10955.14 353212.90\n",
      " 5 -22913.55 -12317.16 -10596.39 340895.74\n",
      " 6 -22913.55 -12686.68 -10226.87 328209.06\n",
      " 7 -22913.55 -13067.28 -9846.27 315141.79\n",
      " 8 -22913.55 -13459.29 -9454.25 301682.49\n",
      " 9 -22913.55 -13863.07 -9050.47 287819.42\n",
      "10 -22913.55 -14278.97 -8634.58 273540.45\n",
      "11 -22913.55 -14707.33 -8206.21 258833.12\n",
      "12 -22913.55 -15148.55 -7764.99 243684.56\n",
      "13 -22913.55 -15603.01 -7310.54 228081.55\n",
      "14 -22913.55 -16071.10 -6842.45 212010.45\n",
      "15 -22913.55 -16553.23 -6360.31 195457.21\n",
      "16 -22913.55 -17049.83 -5863.72 178407.38\n",
      "17 -22913.55 -17561.33 -5352.22 160846.06\n",
      "18 -22913.55 -18088.17 -4825.38 142757.89\n",
      "19 -22913.55 -18630.81 -4282.74 124127.08\n",
      "20 -22913.55 -19189.74 -3723.81 104937.34\n",
      "21 -22913.55 -19765.43 -3148.12 85171.91\n",
      "22 -22913.55 -20358.39 -2555.16 64813.52\n",
      "23 -22913.55 -20969.14 -1944.41 43844.38\n",
      "24 -22913.55 -21598.22 -1315.33 22246.16\n",
      "25 -22913.55 -22246.16  -667.38     0.00\n"
     ]
    },
    {
     "data": {
      "text/plain": [
       "-1909.4623550832384"
      ]
     },
     "execution_count": 124,
     "metadata": {},
     "output_type": "execute_result"
    }
   ],
   "source": [
    "fmt = '{0:2d} {4:8.2f} {1:8.2f} {2:8.2f} {3:8.2f}'\n",
    "p = price\n",
    "for payment in per:\n",
    "    index = payment - 1\n",
    "    p = p + ppmt[index]\n",
    "    print(fmt.format(payment, ppmt[index], ipmt[index], p, ppmt[index] + ipmt[index]))\n",
    "\n",
    "cumulative_principal = -np.matmul(ppmt, np.triu(np.ones(nper*nper).reshape((nper, nper))))\n",
    "# Monthly mortgage payment\n",
    "yearly_mortgage = - ppmt[0] - ipmt[0]\n",
    "(ppmt[0] + ipmt[0]) / 12\n"
   ]
  },
  {
   "cell_type": "markdown",
   "metadata": {},
   "source": [
    "### Comparative Yearly Return"
   ]
  },
  {
   "cell_type": "code",
   "execution_count": 88,
   "metadata": {},
   "outputs": [
    {
     "data": {
      "text/plain": [
       "(33076.271, 3989.819260998862)"
      ]
     },
     "execution_count": 88,
     "metadata": {},
     "output_type": "execute_result"
    }
   ],
   "source": [
    "capital = annual_expense + initial_expense + downpayment\n",
    "total_yearly_cost = annual_expense + yearly_mortgage\n",
    "appreciation = np.fv(0.02, per, 0, -price) - price\n",
    "rent = 600 * 12\n",
    "rental_income = 2100 * 12\n",
    "\n",
    "yearly_capital = total_yearly_cost - rental_income if rental_income < total_yearly_cost else 0\n",
    "yearly_income = rental_income - total_yearly_cost if rental_income > total_yearly_cost else 0\n",
    "\n",
    "(capital, yearly_capital)"
   ]
  },
  {
   "cell_type": "code",
   "execution_count": 81,
   "metadata": {},
   "outputs": [
    {
     "data": {
      "text/plain": [
       "array([ 39381.429231  ,  46127.94853817,  53346.72419684,  61070.81415162,\n",
       "        69335.59040323,  78178.90099245,  87641.24332292,  97765.94961653,\n",
       "       108599.38535068, 120191.16158623, 132594.36215826, 145865.78677034,\n",
       "       160066.21110526, 175260.66514363, 191518.73096468, 208914.86139321,\n",
       "       227528.72095173, 247445.55067936, 268756.55848791, 291559.33684306,\n",
       "       315958.30968307, 342065.21062189, 369999.59462642, 399889.38551127,\n",
       "       431871.46175806])"
      ]
     },
     "execution_count": 81,
     "metadata": {},
     "output_type": "execute_result"
    }
   ],
   "source": [
    "# TODO: add (varying per year) (annual_expense + ipmt[0] - rental_income * 12) compounded by 1.07\n",
    "# This would be the lost opportunity cost that you'd be otheriwse adding to your stock investments\n",
    "# (e.g., what is the added capital beyond your initial investment that you must use to sustain your mortgage?)\n",
    "stocks = np.fv(0.07, per, -yearly_capital, -capital)\n",
    "stocks"
   ]
  },
  {
   "cell_type": "code",
   "execution_count": 132,
   "metadata": {},
   "outputs": [
    {
     "data": {
      "text/plain": [
       "array([-18142.512     ,   1268.97420883,  21181.40961592,  41608.19478947,\n",
       "        62563.09975655,  84060.27443573, 106114.25936964, 128739.99676621,\n",
       "       151952.8418576 , 175768.57458613, 200203.4116266 , 225274.01875496,\n",
       "       250997.52357339, 277391.52860211, 304474.12474874, 332263.90516617,\n",
       "       360779.97951024, 390041.98860904, 420070.1195557 , 450885.12123715,\n",
       "       482508.32031156, 514961.63764758, 548267.60523883, 582449.38360767,\n",
       "       617530.77971244])"
      ]
     },
     "execution_count": 132,
     "metadata": {},
     "output_type": "execute_result"
    }
   ],
   "source": [
    "realestate = (-ppmt + appreciation + rental_income) + (-yearly_capital + ipmt)\n",
    "realestate = cumulative_principal + appreciation - total_yearly_cost - capital + rental_income\n",
    "realestate"
   ]
  },
  {
   "cell_type": "code",
   "execution_count": 134,
   "metadata": {},
   "outputs": [],
   "source": [
    "roi = realestate / stocks\n",
    "\n",
    "rio"
   ]
  },
  {
   "cell_type": "code",
   "execution_count": 56,
   "metadata": {},
   "outputs": [],
   "source": [
    "first_year = rental_income * 12 - annual_expense - initial_expense + ppmt[0] - ipmt[0]\n",
    "def net(year):\n",
    "    if year == 1:\n",
    "        return first_year\n",
    "    return net(year - 1) + rental_income * 12 - annual_expense + ppmt[year] - ipmt[year]"
   ]
  },
  {
   "cell_type": "code",
   "execution_count": 29,
   "metadata": {},
   "outputs": [
    {
     "data": {
      "text/plain": [
       "array([ 133500.        ,  222845.        ,  318444.15      ,\n",
       "        420735.2405    ,  530186.707335  ,  647299.77684845,\n",
       "        772610.76122784,  906693.51451379, 1050162.06052976,\n",
       "       1203673.40476684, 1367930.54310052, 1543685.68111756,\n",
       "       1731743.67879578, 1932965.73631149, 2148273.33785329,\n",
       "       2378652.47150302, 2625158.14450824, 2888919.21462381,\n",
       "       3171143.55964748, 3473123.6088228 , 3796242.2614404 ,\n",
       "       4141979.21974123, 4511917.76512312, 4907752.00868173,\n",
       "       5331294.64928946])"
      ]
     },
     "execution_count": 29,
     "metadata": {},
     "output_type": "execute_result"
    }
   ],
   "source": [
    "np.fv(0.07, per, -80000, -50000)"
   ]
  },
  {
   "cell_type": "code",
   "execution_count": null,
   "metadata": {},
   "outputs": [],
   "source": []
  },
  {
   "cell_type": "code",
   "execution_count": null,
   "metadata": {},
   "outputs": [],
   "source": []
  }
 ],
 "metadata": {
  "kernelspec": {
   "display_name": "Python 3",
   "language": "python",
   "name": "python3"
  },
  "language_info": {
   "codemirror_mode": {
    "name": "ipython",
    "version": 3
   },
   "file_extension": ".py",
   "mimetype": "text/x-python",
   "name": "python",
   "nbconvert_exporter": "python",
   "pygments_lexer": "ipython3",
   "version": "3.7.2"
  }
 },
 "nbformat": 4,
 "nbformat_minor": 2
}
